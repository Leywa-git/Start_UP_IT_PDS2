{
 "cells": [
  {
   "cell_type": "markdown",
   "id": "1e56a751",
   "metadata": {},
   "source": [
    "|Y \\ X|10|5|2|1|-5|P(Y)|\n",
    "|:-:|:-:|:-:|:-:|:-:|:-:|:-:|\n",
    "|20|0.01|0.03|0.02|0.03|0.01|0.1|\n",
    "|10|0.03|0.09|0.06|0.09|0.03|0.3|\n",
    "|2|0.02|0.06|0.04|0.06|0.02|0.2|\n",
    "|-2|0.03|0.09|0.06|0.09|0.03|0.3|\n",
    "|-8|0.01|0.03|0.02|0.03|0.01|0.1|\n",
    "|P(X)|0.1|0.3|0.2|0.3|0.1|1|"
   ]
  },
  {
   "cell_type": "code",
   "execution_count": 33,
   "id": "f77a8a5b",
   "metadata": {},
   "outputs": [],
   "source": [
    "X = [10, 5, 2, 1, -5]\n",
    "P_X = [0.1, 0.3, 0.2, 0.3, 0.1]\n",
    "Y = [20, 10, 2, -2, -8]\n",
    "P_Y = [0.1, 0.3, 0.2, 0.3, 0.1]\n",
    "P_XY = [[0.01, 0.03, 0.02, 0.03, 0.01],\n",
    "       [0.03, 0.09, 0.06, 0.09, 0.03],\n",
    "       [0.02, 0.06, 0.04, 0.06, 0.02],\n",
    "       [0.03, 0.09, 0.06, 0.09, 0.03],\n",
    "       [0.01, 0.03, 0.02, 0.03, 0.01]]"
   ]
  },
  {
   "cell_type": "code",
   "execution_count": 34,
   "id": "9089422f",
   "metadata": {},
   "outputs": [
    {
     "name": "stdout",
     "output_type": "stream",
     "text": [
      "M_X = 2.7\n",
      "M_Y = 4.0\n"
     ]
    }
   ],
   "source": [
    "# Mathematical expectation\n",
    "x = []\n",
    "y = []\n",
    "for i1, i2 in zip(X, P_X):\n",
    "    x.append(i1*i2)\n",
    "for i1, i2 in zip(Y, P_Y):\n",
    "    y.append(i1*i2)\n",
    "M_X = sum(x)\n",
    "M_Y = sum(y)\n",
    "print(f\"M_X = {round(M_X, 3)}\")\n",
    "print(f\"M_Y = {round(M_Y, 3)}\")"
   ]
  },
  {
   "cell_type": "code",
   "execution_count": 35,
   "id": "c54c8e05",
   "metadata": {},
   "outputs": [
    {
     "name": "stdout",
     "output_type": "stream",
     "text": [
      "D_X = 13.81\n",
      "D_Y = 62.4\n"
     ]
    }
   ],
   "source": [
    "# Dispersion\n",
    "x_2 = []\n",
    "y_2 = []\n",
    "for i1, i2 in zip(X, P_X):\n",
    "    x_2.append((i1**2)*i2)\n",
    "for i1, i2 in zip(Y, P_Y):\n",
    "    y_2.append((i1**2)*i2)\n",
    "M_X_2 = sum(x_2)\n",
    "M_Y_2 = sum(y_2)\n",
    "D_X = M_X_2 - M_X**2\n",
    "D_Y = M_Y_2 - M_Y**2\n",
    "print(f\"D_X = {round(D_X, 3)}\")\n",
    "print(f\"D_Y = {round(D_Y, 3)}\")"
   ]
  },
  {
   "cell_type": "code",
   "execution_count": 36,
   "id": "84567f4c",
   "metadata": {},
   "outputs": [
    {
     "name": "stdout",
     "output_type": "stream",
     "text": [
      "d_X = 3.716\n",
      "d_Y = 7.899\n"
     ]
    }
   ],
   "source": [
    "# deviation\n",
    "d_X = round(D_X**(1/2), 3)\n",
    "d_Y = round(D_Y**(1/2), 3)\n",
    "print(f\"d_X = {d_X}\")\n",
    "print(f\"d_Y = {d_Y}\")"
   ]
  },
  {
   "cell_type": "code",
   "execution_count": 37,
   "id": "ea6ada59",
   "metadata": {},
   "outputs": [
    {
     "name": "stdout",
     "output_type": "stream",
     "text": [
      "M_XY = 10.8\n",
      "cov_XY = 0\n"
     ]
    }
   ],
   "source": [
    "# covariance\n",
    "xy = []\n",
    "for i in range(len(P_XY)):\n",
    "    for j in range(len(P_XY)):\n",
    "        xy.append(Y[i]*X[j]*P_XY[i][j])\n",
    "M_XY = sum(xy)\n",
    "cov_XY = M_XY - M_X * M_Y\n",
    "print(f\"M_XY = {round(M_XY, 3)}\")\n",
    "print(f\"cov_XY = {round(cov_XY)}\")"
   ]
  },
  {
   "cell_type": "code",
   "execution_count": 38,
   "id": "f23c062b",
   "metadata": {},
   "outputs": [
    {
     "name": "stdout",
     "output_type": "stream",
     "text": [
      "r_XY = 0\n"
     ]
    }
   ],
   "source": [
    "# Correlation coefficient\n",
    "r_XY = cov_XY / (d_X * d_Y)\n",
    "print(f\"r_XY = {round(r_XY)}\")"
   ]
  },
  {
   "cell_type": "markdown",
   "id": "e4b44d37",
   "metadata": {},
   "source": [
    "**Mathematical expectations of shares profit are in favor of shares Y**\n",
    "\n",
    "**Shares Y are almost twice risky rather shares X due to dispersion.**\n",
    "\n",
    "**There are no connections between shares X and Y regarding covariance and correlation.**\n"
   ]
  }
 ],
 "metadata": {
  "kernelspec": {
   "display_name": "Python 3 (ipykernel)",
   "language": "python",
   "name": "python3"
  },
  "language_info": {
   "codemirror_mode": {
    "name": "ipython",
    "version": 3
   },
   "file_extension": ".py",
   "mimetype": "text/x-python",
   "name": "python",
   "nbconvert_exporter": "python",
   "pygments_lexer": "ipython3",
   "version": "3.10.6"
  }
 },
 "nbformat": 4,
 "nbformat_minor": 5
}
