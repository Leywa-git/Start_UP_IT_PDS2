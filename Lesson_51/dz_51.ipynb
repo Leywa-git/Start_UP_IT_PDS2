{
 "cells": [
  {
   "cell_type": "markdown",
   "id": "af85784c",
   "metadata": {},
   "source": [
    "# Mathematical solution"
   ]
  },
  {
   "cell_type": "code",
   "execution_count": 22,
   "id": "a9fbf8d3",
   "metadata": {},
   "outputs": [],
   "source": [
    "X = 13000\n",
    "x1 = 8000\n",
    "x2 = 5000\n",
    "sigma1 = 0.5\n",
    "sigma2 = 0.7\n",
    "A = {\"Goods are manufactured with excellent quality in the first plant\"}\n",
    "A = 0.85\n",
    "B = {\"Goods are manufactured with excellent quality in the second plant\"}\n",
    "B = 0.8\n",
    "C = {\"Seelected goods are manufactured with excellent quality\"}"
   ]
  },
  {
   "cell_type": "code",
   "execution_count": 23,
   "id": "44a1d3da",
   "metadata": {},
   "outputs": [
    {
     "data": {
      "text/plain": [
       "0.8307692307692308"
      ]
     },
     "execution_count": 23,
     "metadata": {},
     "output_type": "execute_result"
    }
   ],
   "source": [
    "# by total probability theorem P(A) = P(B) P(A|B) + P(B′) P(A|B′)\n",
    "a = x1 / X    # 8000 out of 13000 goods\n",
    "b = x2 / X    # 5000 iut of 13000 goods\n",
    "C = A * a + B * b\n",
    "C"
   ]
  },
  {
   "cell_type": "code",
   "execution_count": 24,
   "id": "9a73cfc3",
   "metadata": {},
   "outputs": [
    {
     "name": "stdout",
     "output_type": "stream",
     "text": [
      "Selected goods are manufactured in the first plant with a 0.6296296296296297 chance.\n"
     ]
    }
   ],
   "source": [
    "# by Bayes' theorem P(A|B) = (P(B|A) * P(A)) / P(B)\n",
    "D = a * A / C\n",
    "print(f\"Selected goods are manufactured in the first plant with a {D} chance.\")"
   ]
  },
  {
   "cell_type": "code",
   "execution_count": 25,
   "id": "01fbb12d",
   "metadata": {},
   "outputs": [
    {
     "name": "stdout",
     "output_type": "stream",
     "text": [
      "Selected goods are manufactured in the second plant with a 0.37037037037037035 chance.\n"
     ]
    }
   ],
   "source": [
    "# by Bayes' theorem P(A|B) = (P(B|A) * P(A)) / P(B)\n",
    "E = b * B / C\n",
    "print(f\"Selected goods are manufactured in the second plant with a {E} chance.\")"
   ]
  },
  {
   "cell_type": "code",
   "execution_count": 26,
   "id": "11f6621e",
   "metadata": {},
   "outputs": [
    {
     "data": {
      "text/plain": [
       "1.0"
      ]
     },
     "execution_count": 26,
     "metadata": {},
     "output_type": "execute_result"
    }
   ],
   "source": [
    "# Checking if sum of both probabilities equal to 1\n",
    "F = D + E\n",
    "F"
   ]
  }
 ],
 "metadata": {
  "kernelspec": {
   "display_name": "Python 3 (ipykernel)",
   "language": "python",
   "name": "python3"
  },
  "language_info": {
   "codemirror_mode": {
    "name": "ipython",
    "version": 3
   },
   "file_extension": ".py",
   "mimetype": "text/x-python",
   "name": "python",
   "nbconvert_exporter": "python",
   "pygments_lexer": "ipython3",
   "version": "3.10.6"
  }
 },
 "nbformat": 4,
 "nbformat_minor": 5
}
