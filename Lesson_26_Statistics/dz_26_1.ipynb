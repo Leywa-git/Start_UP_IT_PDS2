{
 "cells": [
  {
   "cell_type": "code",
   "execution_count": 17,
   "id": "1b7b670e",
   "metadata": {},
   "outputs": [],
   "source": [
    "n = 100\n",
    "P_X = 0.9\n",
    "P_X_ = 1 - P_X\n",
    "k = [85, 95]"
   ]
  },
  {
   "cell_type": "code",
   "execution_count": 18,
   "id": "8cd30181",
   "metadata": {},
   "outputs": [
    {
     "name": "stdout",
     "output_type": "stream",
     "text": [
      "5.0\n",
      "5.0\n"
     ]
    }
   ],
   "source": [
    "import math\n",
    "M_X = n * P_X\n",
    "D_X = n * P_X * P_X_\n",
    "E1 = k[1] - M_X\n",
    "e1 = abs(E1)\n",
    "print(e1)\n",
    "E2 = k[0] - M_X\n",
    "e2 = abs(E2)\n",
    "print(e2) "
   ]
  },
  {
   "cell_type": "code",
   "execution_count": 19,
   "id": "7dac026b",
   "metadata": {},
   "outputs": [
    {
     "name": "stdout",
     "output_type": "stream",
     "text": [
      "Chances are equal or greater then 0.64\n"
     ]
    }
   ],
   "source": [
    "# Chebyshev's inequality\n",
    "# P(abs(X - M_X)<=e) >= 1 - D_X / e1 * e2\n",
    "A = 1 - D_X / (e1 * e2)\n",
    "print(f\"Chances are equal or greater then {round(A, 3)}\")"
   ]
  }
 ],
 "metadata": {
  "kernelspec": {
   "display_name": "Python 3 (ipykernel)",
   "language": "python",
   "name": "python3"
  },
  "language_info": {
   "codemirror_mode": {
    "name": "ipython",
    "version": 3
   },
   "file_extension": ".py",
   "mimetype": "text/x-python",
   "name": "python",
   "nbconvert_exporter": "python",
   "pygments_lexer": "ipython3",
   "version": "3.10.6"
  }
 },
 "nbformat": 4,
 "nbformat_minor": 5
}
