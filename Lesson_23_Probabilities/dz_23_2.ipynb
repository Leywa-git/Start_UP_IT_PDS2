{
 "cells": [
  {
   "cell_type": "code",
   "execution_count": 1,
   "id": "484c0d7d",
   "metadata": {
    "scrolled": true
   },
   "outputs": [],
   "source": [
    "A = {\"First alarm goes off\"}\n",
    "A = 0.95\n",
    "B = {\"Second alarm goes off\"}\n",
    "B = 0.9 \n",
    "C = {\"At least one alarm goes off\"}\n",
    "D = {\"Only one alarm goes off\"}"
   ]
  },
  {
   "cell_type": "code",
   "execution_count": 2,
   "id": "020748c8",
   "metadata": {},
   "outputs": [
    {
     "name": "stdout",
     "output_type": "stream",
     "text": [
      "At least one alarm goes off with a 0.9950000000000001 chance.\n"
     ]
    }
   ],
   "source": [
    "# probability of at least one of the events happening: P(A+B) = P(A) + P(B) - P(AB)\n",
    "C = A + B - A * B\n",
    "print(f\"At least one alarm goes off with a {C} chance.\")"
   ]
  },
  {
   "cell_type": "code",
   "execution_count": 3,
   "id": "527f7adb",
   "metadata": {},
   "outputs": [
    {
     "name": "stdout",
     "output_type": "stream",
     "text": [
      "Only one alarm goes off with a 0.14 chance.\n"
     ]
    }
   ],
   "source": [
    "# probability of revert events happening: P(A_) = 1 - P(A)\n",
    "# probability of only one of events happening: P(D) = P(A) * P(B_) + P(A_) * P(B)\n",
    "A_ = 1 - A\n",
    "B_ = 1 - B\n",
    "D = A * B_ + A_ * B\n",
    "print(f\"Only one alarm goes off with a {D} chance.\")"
   ]
  }
 ],
 "metadata": {
  "kernelspec": {
   "display_name": "Python 3 (ipykernel)",
   "language": "python",
   "name": "python3"
  },
  "language_info": {
   "codemirror_mode": {
    "name": "ipython",
    "version": 3
   },
   "file_extension": ".py",
   "mimetype": "text/x-python",
   "name": "python",
   "nbconvert_exporter": "python",
   "pygments_lexer": "ipython3",
   "version": "3.10.6"
  }
 },
 "nbformat": 4,
 "nbformat_minor": 5
}
