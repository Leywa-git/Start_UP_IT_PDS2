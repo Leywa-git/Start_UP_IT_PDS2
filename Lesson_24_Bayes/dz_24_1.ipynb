{
 "cells": [
  {
   "cell_type": "code",
   "execution_count": 14,
   "id": "24f0b303",
   "metadata": {},
   "outputs": [],
   "source": [
    "a = 40    # Documents filled by first economist\n",
    "b = 60    # Documents filled by second economist\n",
    "A = {\"First ecomonomist makes a mistake\"}\n",
    "A = 0.1\n",
    "B = {\"Second economist makes a mistake\"}\n",
    "B = 0.2\n",
    "c = a + b    # Documents filled by both economists\n",
    "C = {\"Mistake in selected document was made by first ecomist\"}"
   ]
  },
  {
   "cell_type": "code",
   "execution_count": 15,
   "id": "988967d5",
   "metadata": {},
   "outputs": [],
   "source": [
    "# by total probability theorem P(A) = P(B) P(A|B) + P(B′) P(A|B′)\n",
    "f = a / c    # 40 out of 100 documents\n",
    "s = b / c    # 60 iut of 100 documents\n",
    "D = {\"Mistake in selected document was made\"}\n",
    "D = A * f + B * s"
   ]
  },
  {
   "cell_type": "code",
   "execution_count": 16,
   "id": "a0df954f",
   "metadata": {},
   "outputs": [
    {
     "name": "stdout",
     "output_type": "stream",
     "text": [
      "Mistake in selected document was made by first ecomist with a 0.25000000000000006 chance.\n"
     ]
    }
   ],
   "source": [
    "# by Bayes' theorem P(A|B) = (P(B|A) * P(A)) / P(B)\n",
    "C = f * A / D\n",
    "print(f\"Mistake in selected document was made by first ecomist with a {C} chance.\")"
   ]
  }
 ],
 "metadata": {
  "kernelspec": {
   "display_name": "Python 3 (ipykernel)",
   "language": "python",
   "name": "python3"
  },
  "language_info": {
   "codemirror_mode": {
    "name": "ipython",
    "version": 3
   },
   "file_extension": ".py",
   "mimetype": "text/x-python",
   "name": "python",
   "nbconvert_exporter": "python",
   "pygments_lexer": "ipython3",
   "version": "3.10.6"
  }
 },
 "nbformat": 4,
 "nbformat_minor": 5
}
