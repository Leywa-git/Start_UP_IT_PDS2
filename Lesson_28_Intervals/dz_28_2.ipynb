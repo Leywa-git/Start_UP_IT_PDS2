{
 "cells": [
  {
   "cell_type": "code",
   "execution_count": 8,
   "id": "3340fa38",
   "metadata": {},
   "outputs": [],
   "source": [
    "gamma = 0.95\n",
    "n = 100\n",
    "m = 40"
   ]
  },
  {
   "cell_type": "code",
   "execution_count": 9,
   "id": "9383f237",
   "metadata": {},
   "outputs": [
    {
     "data": {
      "text/plain": [
       "0.475"
      ]
     },
     "execution_count": 9,
     "metadata": {},
     "output_type": "execute_result"
    }
   ],
   "source": [
    "# p1 < p < p2\n",
    "F_t = gamma/2\n",
    "F_t"
   ]
  },
  {
   "cell_type": "code",
   "execution_count": 10,
   "id": "05dcd2cc",
   "metadata": {},
   "outputs": [
    {
     "name": "stdout",
     "output_type": "stream",
     "text": [
      "The confidence interval of a event A occurance is (0.309; 0.498).\n"
     ]
    }
   ],
   "source": [
    "t = 1.96    # Table of Laplace Transforms\n",
    "p1 = (1/(t**2 + n)) * (m + (t**2 / 2) - t * ((m * (n - m)/n + t**2/4)**(1/2)))\n",
    "p2 = (1/(t**2 + n)) * (m + (t**2 / 2) + t * ((m * (n - m)/n + t**2/4)**(1/2)))\n",
    "print((f\"The confidence interval of a event A occurance is ({round(p1,3)}; {round(p2,3)}).\"))                        "
   ]
  }
 ],
 "metadata": {
  "kernelspec": {
   "display_name": "Python 3 (ipykernel)",
   "language": "python",
   "name": "python3"
  },
  "language_info": {
   "codemirror_mode": {
    "name": "ipython",
    "version": 3
   },
   "file_extension": ".py",
   "mimetype": "text/x-python",
   "name": "python",
   "nbconvert_exporter": "python",
   "pygments_lexer": "ipython3",
   "version": "3.10.6"
  }
 },
 "nbformat": 4,
 "nbformat_minor": 5
}
