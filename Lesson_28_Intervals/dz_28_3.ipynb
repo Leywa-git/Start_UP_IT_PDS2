{
 "cells": [
  {
   "cell_type": "code",
   "execution_count": 7,
   "id": "1925b136",
   "metadata": {},
   "outputs": [],
   "source": [
    "gamma = 0.99\n",
    "delta = 0.6\n",
    "sigma = 3"
   ]
  },
  {
   "cell_type": "code",
   "execution_count": 8,
   "id": "eef7b77f",
   "metadata": {},
   "outputs": [
    {
     "data": {
      "text/plain": [
       "0.495"
      ]
     },
     "execution_count": 8,
     "metadata": {},
     "output_type": "execute_result"
    }
   ],
   "source": [
    "# n = (t**2 * sigma**2) / delta**2\n",
    "F_t = gamma / 2\n",
    "F_t"
   ]
  },
  {
   "cell_type": "code",
   "execution_count": 9,
   "id": "16a01235",
   "metadata": {},
   "outputs": [
    {
     "data": {
      "text/plain": [
       "166.41000000000003"
      ]
     },
     "execution_count": 9,
     "metadata": {},
     "output_type": "execute_result"
    }
   ],
   "source": [
    "t = 2.58    # Table of Laplace Transforms\n",
    "n = (t**2 * sigma**2) / delta**2\n",
    "n"
   ]
  },
  {
   "cell_type": "code",
   "execution_count": 10,
   "id": "cf8ff859",
   "metadata": {},
   "outputs": [
    {
     "name": "stdout",
     "output_type": "stream",
     "text": [
      "minimal sample value must be 167.\n"
     ]
    }
   ],
   "source": [
    "print(f\"minimal sample value must be {round(n) + 1}.\")    \n",
    "# 166.41 was rounded to 167 because we cannot accept float numbers and 166 would be not enough for a minimal requirement."
   ]
  }
 ],
 "metadata": {
  "kernelspec": {
   "display_name": "Python 3 (ipykernel)",
   "language": "python",
   "name": "python3"
  },
  "language_info": {
   "codemirror_mode": {
    "name": "ipython",
    "version": 3
   },
   "file_extension": ".py",
   "mimetype": "text/x-python",
   "name": "python",
   "nbconvert_exporter": "python",
   "pygments_lexer": "ipython3",
   "version": "3.10.6"
  }
 },
 "nbformat": 4,
 "nbformat_minor": 5
}
