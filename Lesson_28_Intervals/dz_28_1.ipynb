{
 "cells": [
  {
   "cell_type": "markdown",
   "id": "cc71a96f",
   "metadata": {},
   "source": [
    "|xi|ni|\n",
    "|---|---|\n",
    "|1|2|\n",
    "|2|3|\n",
    "|4|10|\n",
    "|6|3|\n",
    "|7|2|"
   ]
  },
  {
   "cell_type": "code",
   "execution_count": 71,
   "id": "94b93415",
   "metadata": {},
   "outputs": [],
   "source": [
    "n = 20\n",
    "gamma = 0.95"
   ]
  },
  {
   "cell_type": "code",
   "execution_count": 72,
   "id": "f87c6c97",
   "metadata": {},
   "outputs": [],
   "source": [
    "xi = [1, 2, 4, 6, 7]\n",
    "ni = [2, 3, 10, 3, 2]"
   ]
  },
  {
   "cell_type": "code",
   "execution_count": 73,
   "id": "3335698a",
   "metadata": {},
   "outputs": [],
   "source": [
    "# SE*(1-q) < sigma < SE*(1+q) if q<1\n",
    "# 0 < sigma < SE*(1+q) if q>1\n",
    "# SE: std: Standard error\n",
    "# SE**2 =  (1/(n-1))*sum((xi - x_bar)**2)\n",
    "# SE = (SE**2)**(1/2)\n",
    "# x_bar = (1/n) * sum(xi*ni)"
   ]
  },
  {
   "cell_type": "code",
   "execution_count": 74,
   "id": "e199ce5f",
   "metadata": {},
   "outputs": [
    {
     "data": {
      "text/plain": [
       "4.0"
      ]
     },
     "execution_count": 74,
     "metadata": {},
     "output_type": "execute_result"
    }
   ],
   "source": [
    "a = []\n",
    "for i1, i2 in zip(xi, ni):\n",
    "    a.append(i1*i2)\n",
    "A = sum(a)\n",
    "x_bar = (1/n)*A\n",
    "x_bar"
   ]
  },
  {
   "cell_type": "code",
   "execution_count": 75,
   "id": "c67cdf2e",
   "metadata": {},
   "outputs": [
    {
     "data": {
      "text/plain": [
       "1.7770466332772772"
      ]
     },
     "execution_count": 75,
     "metadata": {},
     "output_type": "execute_result"
    }
   ],
   "source": [
    "b =[]\n",
    "for i1, i2 in zip(xi, ni):\n",
    "    b.append(((i1-x_bar)**2)*i2)\n",
    "B = sum(b)\n",
    "SE = (B/(n-1))**(1/2)\n",
    "SE"
   ]
  },
  {
   "cell_type": "code",
   "execution_count": 76,
   "id": "a01f027c",
   "metadata": {},
   "outputs": [
    {
     "name": "stdout",
     "output_type": "stream",
     "text": [
      "The confidence interval of a standard deviation is (1.12; 2.435).\n"
     ]
    }
   ],
   "source": [
    "q = 0.37    # gamma = 0.95 and n = 20 in table\n",
    "teta_star_minus_delta = round(SE*(1-q), 3)\n",
    "teta_star_plus_delta = round(SE*(1+q), 3)\n",
    "teta_star_minus_delta < sigma < teta_star_plus_delta\n",
    "print(f\"The confidence interval of a standard deviation is ({teta_star_minus_delta}; {teta_star_plus_delta}).\")"
   ]
  }
 ],
 "metadata": {
  "kernelspec": {
   "display_name": "Python 3 (ipykernel)",
   "language": "python",
   "name": "python3"
  },
  "language_info": {
   "codemirror_mode": {
    "name": "ipython",
    "version": 3
   },
   "file_extension": ".py",
   "mimetype": "text/x-python",
   "name": "python",
   "nbconvert_exporter": "python",
   "pygments_lexer": "ipython3",
   "version": "3.10.6"
  }
 },
 "nbformat": 4,
 "nbformat_minor": 5
}
