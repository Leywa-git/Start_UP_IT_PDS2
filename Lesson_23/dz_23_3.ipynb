{
 "cells": [
  {
   "cell_type": "code",
   "execution_count": 1,
   "id": "c3eff36f",
   "metadata": {},
   "outputs": [],
   "source": [
    "A = {\"First machine produce quality goods\"}\n",
    "A = 0.60\n",
    "B = {\"Second machine produced quality goods\"}\n",
    "B = 0.84\n",
    "C = {\"Excelent quality of goods are randomly picked\"}\n",
    "D = {\"Excelent quality of goods are randomly picked and are produced with first machine\"}\n",
    "# Machines operate at ratio First : 0.5 Second."
   ]
  },
  {
   "cell_type": "code",
   "execution_count": 2,
   "id": "0e30722f",
   "metadata": {},
   "outputs": [
    {
     "name": "stdout",
     "output_type": "stream",
     "text": [
      "Randomly picked goods are excellent quality with a 0.6799999999999999 chance.\n"
     ]
    }
   ],
   "source": [
    "# By the time second machine produces goods, first one already produced 2. Out of 3 goods only 1 produced by second machine.\n",
    "E = {\"Randomly picked goods are produced with first machine\"}\n",
    "F = {\"Randomly picked goods are produced with second machine\"}\n",
    "E = 2 / 3\n",
    "F = 1 / 3\n",
    "# by total probability theorem P(A) = P(B) P(A|B) + P(B′) P(A|B′)\n",
    "C = E * A + F * B\n",
    "print(f\"Randomly picked goods are excellent quality with a {C} chance.\")"
   ]
  },
  {
   "cell_type": "code",
   "execution_count": 3,
   "id": "a306efc5",
   "metadata": {},
   "outputs": [
    {
     "name": "stdout",
     "output_type": "stream",
     "text": [
      "Randomly picked goods are excellent quality and produced with first machine with a 0.5882352941176471 chance.\n"
     ]
    }
   ],
   "source": [
    "# by Bayes' theorem P(A|B) = (P(B|A) * P(A)) / P(B)\n",
    "D = (E * A) / C\n",
    "print(f\"Randomly picked goods are excellent quality and produced with first machine with a {D} chance.\")"
   ]
  }
 ],
 "metadata": {
  "kernelspec": {
   "display_name": "Python 3 (ipykernel)",
   "language": "python",
   "name": "python3"
  },
  "language_info": {
   "codemirror_mode": {
    "name": "ipython",
    "version": 3
   },
   "file_extension": ".py",
   "mimetype": "text/x-python",
   "name": "python",
   "nbconvert_exporter": "python",
   "pygments_lexer": "ipython3",
   "version": "3.10.6"
  }
 },
 "nbformat": 4,
 "nbformat_minor": 5
}
