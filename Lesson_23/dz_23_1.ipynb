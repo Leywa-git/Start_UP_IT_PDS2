{
 "cells": [
  {
   "cell_type": "code",
   "execution_count": 6,
   "id": "675a5fc4",
   "metadata": {},
   "outputs": [],
   "source": [
    "elements_total = 7\n",
    "elements_broken = 3\n",
    "elements_operational = elements_total - elements_broken\n",
    "elements_required = 3\n",
    "A = {\"Probability of two operational elements among required\"}"
   ]
  },
  {
   "cell_type": "code",
   "execution_count": 7,
   "id": "12f8cb70",
   "metadata": {},
   "outputs": [
    {
     "name": "stdout",
     "output_type": "stream",
     "text": [
      "Probability of two operational elements among all 3 required is a 0.34285714285714286 chance.\n"
     ]
    }
   ],
   "source": [
    "# To meet the criterion of the question, either 2 or 3 elements must be operational. \n",
    "# They must be chosen from the {elements_operational} and the broken must be selected from the {elements_broken}.\n",
    "# c (m, n) = n! / (m! * (n - m)!)\n",
    "c_1 = 6    # (2, 4) = 4!/(2! * 2!) = 6\n",
    "c_2 = 1.5    # (2, 3) = 3!/(2! * 2!) = 1.5\n",
    "c_3 = 1    # (4, 4) = 4!/(4! * 0!) = 1   \n",
    "c_4 = 3    # (1, 3) = 3!/(1! * 2!) = 3  \n",
    "c_5 = 35    # (3, 7) = 7!/(3! * 4!) = 35   \n",
    "\n",
    "A = (c_1 * c_2 + c_3 * c_4) / c_5\n",
    "print(f\"Probability of two operational elements among all 3 required is a {A} chance.\")"
   ]
  }
 ],
 "metadata": {
  "kernelspec": {
   "display_name": "Python 3 (ipykernel)",
   "language": "python",
   "name": "python3"
  },
  "language_info": {
   "codemirror_mode": {
    "name": "ipython",
    "version": 3
   },
   "file_extension": ".py",
   "mimetype": "text/x-python",
   "name": "python",
   "nbconvert_exporter": "python",
   "pygments_lexer": "ipython3",
   "version": "3.10.6"
  }
 },
 "nbformat": 4,
 "nbformat_minor": 5
}
