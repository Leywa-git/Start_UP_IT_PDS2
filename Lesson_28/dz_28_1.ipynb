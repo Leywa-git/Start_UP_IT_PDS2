{
 "cells": [
  {
   "cell_type": "markdown",
   "id": "9ac5b291",
   "metadata": {},
   "source": [
    "|xi|ni|\n",
    "|---|---|\n",
    "|1|2|\n",
    "|2|3|\n",
    "|4|10|\n",
    "|6|3|\n",
    "|7|2|"
   ]
  },
  {
   "cell_type": "code",
   "execution_count": 1,
   "id": "51ae5f88",
   "metadata": {},
   "outputs": [],
   "source": [
    "n = 20\n",
    "gamma = 0.95"
   ]
  },
  {
   "cell_type": "code",
   "execution_count": 2,
   "id": "d9691d85",
   "metadata": {},
   "outputs": [],
   "source": [
    "xi = [1, 2, 4, 6, 7]\n",
    "ni = [2, 3, 10, 3, 2]"
   ]
  },
  {
   "cell_type": "code",
   "execution_count": null,
   "id": "a9463c9f",
   "metadata": {},
   "outputs": [],
   "source": [
    "# "
   ]
  }
 ],
 "metadata": {
  "kernelspec": {
   "display_name": "Python 3 (ipykernel)",
   "language": "python",
   "name": "python3"
  },
  "language_info": {
   "codemirror_mode": {
    "name": "ipython",
    "version": 3
   },
   "file_extension": ".py",
   "mimetype": "text/x-python",
   "name": "python",
   "nbconvert_exporter": "python",
   "pygments_lexer": "ipython3",
   "version": "3.10.6"
  }
 },
 "nbformat": 4,
 "nbformat_minor": 5
}
