{
 "cells": [
  {
   "cell_type": "markdown",
   "id": "d00be583",
   "metadata": {},
   "source": [
    "|(a_i−1, a_i]|n_i|\n",
    "|:-:|:-:|\n",
    "|0-24|1|\n",
    "|24-48|2|\n",
    "|48-72|4|\n",
    "|72-96|6|\n",
    "|96-120|12|\n",
    "|120-144|16|\n",
    "|144-168|6|\n",
    "|168-192|2|\n",
    "|192-216|1|"
   ]
  },
  {
   "cell_type": "code",
   "execution_count": 160,
   "id": "b3437966",
   "metadata": {},
   "outputs": [],
   "source": [
    "# (a_i−1, a_i] = interval\n",
    "alpha = 0.01\n",
    "H_0 = {\"Total population has a normal distribution.\"}"
   ]
  },
  {
   "cell_type": "code",
   "execution_count": 161,
   "id": "03a04b33",
   "metadata": {},
   "outputs": [],
   "source": [
    "interval = [[0, 24], [24, 48], [48, 72], [72, 96], [96, 120], [120, 144], [144, 168], [168, 192], [192, 216]]\n",
    "n_i = [1, 2, 4, 6, 12, 16, 6, 2, 1]"
   ]
  },
  {
   "cell_type": "code",
   "execution_count": 162,
   "id": "22b9803a",
   "metadata": {},
   "outputs": [
    {
     "data": {
      "text/plain": [
       "[12, 36, 60, 84, 108, 132, 156, 180, 204]"
      ]
     },
     "execution_count": 162,
     "metadata": {},
     "output_type": "execute_result"
    }
   ],
   "source": [
    "# mean of intervals\n",
    "x_i = []\n",
    "for i in interval:\n",
    "    x_i.append((i[0]+i[1])//2)\n",
    "x_i"
   ]
  },
  {
   "cell_type": "code",
   "execution_count": 163,
   "id": "b6354a7c",
   "metadata": {},
   "outputs": [
    {
     "data": {
      "text/plain": [
       "114.72"
      ]
     },
     "execution_count": 163,
     "metadata": {},
     "output_type": "execute_result"
    }
   ],
   "source": [
    "# n and x_bar\n",
    "n = sum(n_i)\n",
    "a = []\n",
    "for i1, i2 in zip(x_i, n_i):\n",
    "    a.append(i1*i2)\n",
    "A = sum(a)\n",
    "x_bar = (1/n)*A\n",
    "x_bar"
   ]
  },
  {
   "cell_type": "code",
   "execution_count": 164,
   "id": "a266021e",
   "metadata": {},
   "outputs": [
    {
     "data": {
      "text/plain": [
       "1452.441600000002"
      ]
     },
     "execution_count": 164,
     "metadata": {},
     "output_type": "execute_result"
    }
   ],
   "source": [
    "# Dispersion\n",
    "b = []\n",
    "for i1, i2 in zip(x_i, n_i):\n",
    "    b.append((i1**2)*i2)\n",
    "B = sum(b)\n",
    "D_bar = B/n - x_bar**2\n",
    "D_bar"
   ]
  },
  {
   "cell_type": "code",
   "execution_count": 165,
   "id": "d29289c7",
   "metadata": {},
   "outputs": [
    {
     "data": {
      "text/plain": [
       "38.1109118232561"
      ]
     },
     "execution_count": 165,
     "metadata": {},
     "output_type": "execute_result"
    }
   ],
   "source": [
    "# deviation\n",
    "sigma_bar = D_bar**(1/2)\n",
    "sigma_bar"
   ]
  },
  {
   "cell_type": "code",
   "execution_count": 166,
   "id": "cca14bb8",
   "metadata": {
    "scrolled": true
   },
   "outputs": [
    {
     "data": {
      "text/plain": [
       "[[-inf, -2.38],\n",
       " [-2.38, -1.75],\n",
       " [-1.75, -1.12],\n",
       " [-1.12, -0.49],\n",
       " [-0.49, 0.14],\n",
       " [0.14, 0.77],\n",
       " [0.77, 1.4],\n",
       " [1.4, 2.03],\n",
       " [2.03, inf]]"
      ]
     },
     "execution_count": 166,
     "metadata": {},
     "output_type": "execute_result"
    }
   ],
   "source": [
    "# a_i-1, a_i to z_i-1, z_i\n",
    "# z_i-1 - z_i = new_interval\n",
    "# z_i = (a_i - x_bar) / sigma_bar\n",
    "# z_i-1 = (a_i-1 - x_bar) / sigma_bar\n",
    "new_interval = interval\n",
    "z_0 = float(\"-inf\")\n",
    "z_m = float(\"inf\")\n",
    "for i in new_interval:\n",
    "    i[0] = round((i[0]-x_bar)/sigma_bar, 2)\n",
    "    i[1] = round((i[1]-x_bar)/sigma_bar, 2)\n",
    "new_interval[0][0] = z_0\n",
    "new_interval[8][1] = z_m\n",
    "new_interval"
   ]
  },
  {
   "cell_type": "markdown",
   "id": "50c04a72",
   "metadata": {},
   "source": [
    "**Filling the PHI value in accordance with table of Laplace transforms:**"
   ]
  },
  {
   "cell_type": "markdown",
   "id": "e1e2f42a",
   "metadata": {},
   "source": [
    "|i|(z_i-1, z_i]|PHI(z_i-1)|PHI(z_i)|\n",
    "|:-:|:-:|:-:|:-:|\n",
    "|1|(-inf, -2.38]|-0.5|-0.4913|\n",
    "|2|(-2.38, -1.75]|-0.4913|-0.4599|\n",
    "|3|(-1.75, -1.12]|-0.4599|-0.3686|\n",
    "|4|(-1.12, -0.49]|-0.3686|-0.1879|\n",
    "|5|(-0.49, 0.14]|-0.1879|0.0557|\n",
    "|6|(0.14, 0.77]|0.0557|0.2794|\n",
    "|7|(0.77, 1.4]|0.2794|0.4192|\n",
    "|8|(1.4, 2.03]|0.4192|0.4788\n",
    "|9|(2.03, inf)|0.4788|0.5|"
   ]
  },
  {
   "cell_type": "code",
   "execution_count": 167,
   "id": "ae9ec64b",
   "metadata": {},
   "outputs": [],
   "source": [
    "PHI_z_i_minus_1 = [-0.5, -0.4913, -0.4599, -0.3686, -0.1879, 0.0557, 0.2794, 0.4192, 0.4788]\n",
    "PHI_z_i = [-0.4913, -0.4599, -0.3686, -0.1879, 0.0557, 0.2794, 0.4192,  0.4788, 0.5]"
   ]
  },
  {
   "cell_type": "code",
   "execution_count": 168,
   "id": "2b5ad77f",
   "metadata": {},
   "outputs": [
    {
     "data": {
      "text/plain": [
       "[0.0087, 0.0314, 0.0913, 0.1807, 0.2436, 0.2237, 0.1398, 0.0596, 0.0212]"
      ]
     },
     "execution_count": 168,
     "metadata": {},
     "output_type": "execute_result"
    }
   ],
   "source": [
    "# p_i = PHI(z_i) - PHI(z_i-1)\n",
    "p_i = []\n",
    "for i1, i2 in zip(PHI_z_i, PHI_z_i_minus_1):\n",
    "    p_i.append(round(i1 - i2, 4))\n",
    "p_i"
   ]
  },
  {
   "cell_type": "code",
   "execution_count": 169,
   "id": "25593dd1",
   "metadata": {},
   "outputs": [
    {
     "data": {
      "text/plain": [
       "[0.435, 1.57, 4.565, 9.035, 12.18, 11.185, 6.99, 2.98, 1.06]"
      ]
     },
     "execution_count": 169,
     "metadata": {},
     "output_type": "execute_result"
    }
   ],
   "source": [
    "# n_i_bar = n * p_i\n",
    "n_i_bar = []\n",
    "for i in p_i:\n",
    "    n_i_bar.append(round(i*n, 3))\n",
    "n_i_bar"
   ]
  },
  {
   "cell_type": "code",
   "execution_count": 170,
   "id": "2441d8a2",
   "metadata": {},
   "outputs": [
    {
     "data": {
      "text/plain": [
       "4.482"
      ]
     },
     "execution_count": 170,
     "metadata": {},
     "output_type": "execute_result"
    }
   ],
   "source": [
    "# K_empirical = sum((n_i-n_i_bar)**2/n_i_bar)\n",
    "c = []\n",
    "for i1, i2 in zip(n_i, n_i_bar):\n",
    "    c.append((i1-i2)**2/i2)\n",
    "K_empirical = round(sum(c), 3)\n",
    "K_empirical"
   ]
  },
  {
   "cell_type": "code",
   "execution_count": 171,
   "id": "c6ab3da0",
   "metadata": {},
   "outputs": [
    {
     "data": {
      "text/plain": [
       "6"
      ]
     },
     "execution_count": 171,
     "metadata": {},
     "output_type": "execute_result"
    }
   ],
   "source": [
    "# r = m - s - 1\n",
    "m = len(interval)\n",
    "s = 2\n",
    "r = m - s - 1\n",
    "r"
   ]
  },
  {
   "cell_type": "code",
   "execution_count": 172,
   "id": "99deebd7",
   "metadata": {},
   "outputs": [
    {
     "data": {
      "text/plain": [
       "True"
      ]
     },
     "execution_count": 172,
     "metadata": {},
     "output_type": "execute_result"
    }
   ],
   "source": [
    "# In accordance with CHI-square Distribution Table: k_critical = CHI_square(alpha, r)\n",
    "k_critical = 16.8\n",
    "H_0 = K_empirical < k_critical\n",
    "H_0"
   ]
  },
  {
   "cell_type": "markdown",
   "id": "3feb8c39",
   "metadata": {},
   "source": [
    "**H0 returns True after calculations performed. Hypothesis H0 is accepted.**"
   ]
  }
 ],
 "metadata": {
  "kernelspec": {
   "display_name": "Python 3 (ipykernel)",
   "language": "python",
   "name": "python3"
  },
  "language_info": {
   "codemirror_mode": {
    "name": "ipython",
    "version": 3
   },
   "file_extension": ".py",
   "mimetype": "text/x-python",
   "name": "python",
   "nbconvert_exporter": "python",
   "pygments_lexer": "ipython3",
   "version": "3.10.6"
  }
 },
 "nbformat": 4,
 "nbformat_minor": 5
}
