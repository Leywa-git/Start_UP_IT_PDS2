{
 "cells": [
  {
   "attachments": {},
   "cell_type": "markdown",
   "id": "7b9cf425",
   "metadata": {},
   "source": [
    "|Y \\ X|0|1|2|3|Pyi|\n",
    "|:-:|:-:|:-:|:-:|:-:|:-:|\n",
    "|0|0|0|0|C3||\n",
    "|1|0|0|C2|0||\n",
    "|2|0|C1|0|0||\n",
    "|3|C0|0|0|0||\n",
    "|Pxj||||||"
   ]
  },
  {
   "cell_type": "code",
   "execution_count": null,
   "id": "612c80d1",
   "metadata": {},
   "outputs": [],
   "source": [
    "A = {f\"Probability of standart detail\"}\n",
    "A = 0.6\n",
    "B = {f\"Probability of broken deatil\"}\n",
    "B = 1 - A"
   ]
  },
  {
   "cell_type": "code",
   "execution_count": null,
   "id": "c04ae849",
   "metadata": {},
   "outputs": [],
   "source": []
  }
 ],
 "metadata": {
  "kernelspec": {
   "display_name": "Python 3 (ipykernel)",
   "language": "python",
   "name": "python3"
  },
  "language_info": {
   "codemirror_mode": {
    "name": "ipython",
    "version": 3
   },
   "file_extension": ".py",
   "mimetype": "text/x-python",
   "name": "python",
   "nbconvert_exporter": "python",
   "pygments_lexer": "ipython3",
   "version": "3.10.6"
  }
 },
 "nbformat": 4,
 "nbformat_minor": 5
}
