{
 "cells": [
  {
   "cell_type": "markdown",
   "id": "b58da2f6",
   "metadata": {},
   "source": [
    "|X|1000|1500|2000|\n",
    "|---|---|---|---|\n",
    "|P|0.5|0.3|0.2|\n",
    "\n",
    "|Y|1000|1500|1750|\n",
    "|---|---|---|---|\n",
    "|P|0.4|0.4|0.2|"
   ]
  },
  {
   "cell_type": "code",
   "execution_count": 37,
   "id": "6e41b17f",
   "metadata": {},
   "outputs": [
    {
     "name": "stdout",
     "output_type": "stream",
     "text": [
      "Mathematical expectations for X is 1350\n"
     ]
    }
   ],
   "source": [
    "X = [1000, 1500, 2000]\n",
    "P_X = [0.5, 0.3, 0.2]\n",
    "M_X = X[0] * P_X[0] + X[1] * P_X[1] + X[2] * P_X[2]\n",
    "print(f\"Mathematical expectations for X is {int(M_X)}\")"
   ]
  },
  {
   "cell_type": "code",
   "execution_count": 38,
   "id": "761d31c9",
   "metadata": {},
   "outputs": [
    {
     "name": "stdout",
     "output_type": "stream",
     "text": [
      "Mathematical expectations for Y is 1350\n"
     ]
    }
   ],
   "source": [
    "Y = [1000, 1500, 1750]\n",
    "P_Y = [0.4, 0.4, 0.2]\n",
    "M_Y = Y[0] * P_Y[0] + Y[1] * P_Y[1] + Y[2] * P_Y[2]\n",
    "print(f\"Mathematical expectations for Y is {int(M_Y)}\")"
   ]
  },
  {
   "cell_type": "code",
   "execution_count": 39,
   "id": "1eadfc1c",
   "metadata": {},
   "outputs": [
    {
     "name": "stdout",
     "output_type": "stream",
     "text": [
      "X dispersion is 152500\n"
     ]
    }
   ],
   "source": [
    "M_X_2 = X[0]**2 * P_X[0] + X[1]**2 * P_X[1] + X[2]**2 * P_X[2]\n",
    "# D_X = M * (X - M * X)**2\n",
    "D_X = M_X_2 - M_X**2\n",
    "print(f\"X dispersion is {int(D_X)}\")"
   ]
  },
  {
   "cell_type": "code",
   "execution_count": 40,
   "id": "1e6bdf12",
   "metadata": {},
   "outputs": [
    {
     "name": "stdout",
     "output_type": "stream",
     "text": [
      "Y dispersion is 90000\n"
     ]
    }
   ],
   "source": [
    "M_Y_2 = Y[0]**2 * P_Y[0] + Y[1]**2 * P_Y[1] + Y[2]**2 * P_Y[2]\n",
    "# D_Y = M * (Y - M * Y)**2\n",
    "D_Y = M_Y_2 - M_Y**2\n",
    "print(f\"Y dispersion is {int(D_Y)}\")"
   ]
  },
  {
   "cell_type": "code",
   "execution_count": 41,
   "id": "f4ecb7fb",
   "metadata": {},
   "outputs": [
    {
     "name": "stdout",
     "output_type": "stream",
     "text": [
      "X deviation is 390.51\n",
      "Y deviation is 300\n",
      "Goods Y are less risky to produce and sale. Goods Y are better option.\n"
     ]
    }
   ],
   "source": [
    "d_X = round(D_X**(1/2), 2)\n",
    "d_Y = round(D_Y**(1/2))\n",
    "print(f\"X deviation is {d_X}\")\n",
    "print(f\"Y deviation is {d_Y}\")\n",
    "if d_X > d_Y:\n",
    "    print(f\"Goods Y are less risky to produce and sale. Goods Y are better option.\")\n",
    "elif d_X < d_Y:\n",
    "    print(f\"Goods X are less risky to produce and sale. Goods X are better option.\")\n",
    "else:\n",
    "    print(f\"Goods are equally risky to produce and sale. Both options viable.\")"
   ]
  }
 ],
 "metadata": {
  "kernelspec": {
   "display_name": "Python 3 (ipykernel)",
   "language": "python",
   "name": "python3"
  },
  "language_info": {
   "codemirror_mode": {
    "name": "ipython",
    "version": 3
   },
   "file_extension": ".py",
   "mimetype": "text/x-python",
   "name": "python",
   "nbconvert_exporter": "python",
   "pygments_lexer": "ipython3",
   "version": "3.10.6"
  }
 },
 "nbformat": 4,
 "nbformat_minor": 5
}
