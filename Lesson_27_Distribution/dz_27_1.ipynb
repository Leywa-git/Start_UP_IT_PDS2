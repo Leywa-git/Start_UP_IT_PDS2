{
 "cells": [
  {
   "cell_type": "code",
   "execution_count": 19,
   "id": "55ab422e",
   "metadata": {},
   "outputs": [],
   "source": [
    "n = 10000\n",
    "p = 0.0007"
   ]
  },
  {
   "cell_type": "code",
   "execution_count": 20,
   "id": "ff9eca31",
   "metadata": {},
   "outputs": [
    {
     "data": {
      "text/plain": [
       "True"
      ]
     },
     "execution_count": 20,
     "metadata": {},
     "output_type": "execute_result"
    }
   ],
   "source": [
    "# Poisson distribution conditions\n",
    "a = n * p\n",
    "n > 1000\n",
    "p < 1\n",
    "a < 10"
   ]
  },
  {
   "cell_type": "code",
   "execution_count": 21,
   "id": "1be72c41",
   "metadata": {},
   "outputs": [
    {
     "name": "stdout",
     "output_type": "stream",
     "text": [
      "Mathematical expectation = 7.0\n"
     ]
    }
   ],
   "source": [
    "# Mathematical expectation\n",
    "M_X = n * p\n",
    "print(f\"Mathematical expectation = {M_X}\")"
   ]
  },
  {
   "cell_type": "code",
   "execution_count": 22,
   "id": "e9f798d9",
   "metadata": {},
   "outputs": [
    {
     "name": "stdout",
     "output_type": "stream",
     "text": [
      "Dispersion = 7.0\n",
      "deviation = 2.646\n"
     ]
    }
   ],
   "source": [
    "# Dispersion and deviation\n",
    "D_X = M_X\n",
    "S_X = D_X**(1/2)\n",
    "print(f\"Dispersion = {round(D_X, 3)}\")\n",
    "print(f\"deviation = {round(S_X, 3)}\")"
   ]
  }
 ],
 "metadata": {
  "kernelspec": {
   "display_name": "Python 3 (ipykernel)",
   "language": "python",
   "name": "python3"
  },
  "language_info": {
   "codemirror_mode": {
    "name": "ipython",
    "version": 3
   },
   "file_extension": ".py",
   "mimetype": "text/x-python",
   "name": "python",
   "nbconvert_exporter": "python",
   "pygments_lexer": "ipython3",
   "version": "3.10.6"
  }
 },
 "nbformat": 4,
 "nbformat_minor": 5
}
