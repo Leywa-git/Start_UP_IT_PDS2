{
 "cells": [
  {
   "cell_type": "code",
   "execution_count": 10,
   "id": "a5a44967",
   "metadata": {},
   "outputs": [],
   "source": [
    "p = 0.9999\n",
    "n = 10000"
   ]
  },
  {
   "cell_type": "code",
   "execution_count": 11,
   "id": "49276c5d",
   "metadata": {},
   "outputs": [],
   "source": [
    "# the opposite probability\n",
    "p_ = 1 - p"
   ]
  },
  {
   "cell_type": "code",
   "execution_count": 12,
   "id": "b90a8242",
   "metadata": {},
   "outputs": [
    {
     "data": {
      "text/plain": [
       "True"
      ]
     },
     "execution_count": 12,
     "metadata": {},
     "output_type": "execute_result"
    }
   ],
   "source": [
    "# Poisson distribution conditions\n",
    "a = n * p_\n",
    "n > 1000\n",
    "p_ < 1\n",
    "a < 10"
   ]
  },
  {
   "cell_type": "code",
   "execution_count": 13,
   "id": "f2ab8068",
   "metadata": {},
   "outputs": [
    {
     "name": "stdout",
     "output_type": "stream",
     "text": [
      "Mathematical expectation = 1.0\n"
     ]
    }
   ],
   "source": [
    "# Mathematical expectation\n",
    "M_X = n * p_\n",
    "print(f\"Mathematical expectation = {round(M_X, 3)}\")"
   ]
  },
  {
   "cell_type": "code",
   "execution_count": 14,
   "id": "620d6bfa",
   "metadata": {},
   "outputs": [
    {
     "name": "stdout",
     "output_type": "stream",
     "text": [
      "Dispersion = 1.0\n",
      "deviation = 1.0\n"
     ]
    }
   ],
   "source": [
    "# Dispersion and deviation\n",
    "D_X = M_X\n",
    "S_X = D_X**(1/2)\n",
    "print(f\"Dispersion = {round(D_X, 3)}\")\n",
    "print(f\"deviation = {round(S_X, 3)}\")"
   ]
  }
 ],
 "metadata": {
  "kernelspec": {
   "display_name": "Python 3 (ipykernel)",
   "language": "python",
   "name": "python3"
  },
  "language_info": {
   "codemirror_mode": {
    "name": "ipython",
    "version": 3
   },
   "file_extension": ".py",
   "mimetype": "text/x-python",
   "name": "python",
   "nbconvert_exporter": "python",
   "pygments_lexer": "ipython3",
   "version": "3.10.6"
  }
 },
 "nbformat": 4,
 "nbformat_minor": 5
}
