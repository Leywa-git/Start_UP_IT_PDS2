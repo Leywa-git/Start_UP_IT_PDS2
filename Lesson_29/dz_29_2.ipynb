{
 "cells": [
  {
   "cell_type": "code",
   "execution_count": 38,
   "id": "09279c00",
   "metadata": {},
   "outputs": [],
   "source": [
    "P_X_greater_or_equal_3 = 0.4\n",
    "M_X = 2"
   ]
  },
  {
   "cell_type": "code",
   "execution_count": 39,
   "id": "adf12005",
   "metadata": {},
   "outputs": [],
   "source": [
    "# F_X = [[0, X <= alpha], [1 / (beta - alpha), alpha < X <= beta], [0, X > beta]]"
   ]
  },
  {
   "cell_type": "code",
   "execution_count": 40,
   "id": "0ad23f4b",
   "metadata": {},
   "outputs": [],
   "source": [
    "# P(c < X < d) = (d - c) / (beta - alpha)\n",
    "# 3 <= X < beta\n",
    "# P(3 =< X < beta) = (beta - 3) / (beta - alpha)\n",
    "# (beta - 3) / (beta - alpha) = 0.4\n",
    "# beta - 3 = 0.4 * beta - 0.4 * alpha\n",
    "# 0.6 * beta + 0.4 * alpha = 3"
   ]
  },
  {
   "cell_type": "code",
   "execution_count": 41,
   "id": "d001defb",
   "metadata": {},
   "outputs": [],
   "source": [
    "# M_X = (alpha + beta) / 2\n",
    "# (alpha + beta) / 2 = 2\n",
    "# alpha = 4 - beta"
   ]
  },
  {
   "cell_type": "code",
   "execution_count": 42,
   "id": "c89604f8",
   "metadata": {},
   "outputs": [
    {
     "name": "stdout",
     "output_type": "stream",
     "text": [
      "Density:\n",
      " 0 for X <= -3 \n",
      " 0.1 for -3 < X <= 7 \n",
      " 0 for X > 7.\n"
     ]
    }
   ],
   "source": [
    "alpha = -3\n",
    "beta = 7\n",
    "new_line = \"\\n\"\n",
    "print(f\"Density:{new_line} 0 for X <= {alpha} {new_line} {1 / (beta - alpha)} for {alpha} < X <= {beta} {new_line} 0 for X > {beta}.\")"
   ]
  }
 ],
 "metadata": {
  "kernelspec": {
   "display_name": "Python 3 (ipykernel)",
   "language": "python",
   "name": "python3"
  },
  "language_info": {
   "codemirror_mode": {
    "name": "ipython",
    "version": 3
   },
   "file_extension": ".py",
   "mimetype": "text/x-python",
   "name": "python",
   "nbconvert_exporter": "python",
   "pygments_lexer": "ipython3",
   "version": "3.10.6"
  }
 },
 "nbformat": 4,
 "nbformat_minor": 5
}
